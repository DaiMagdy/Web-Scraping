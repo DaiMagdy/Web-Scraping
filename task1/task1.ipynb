{
 "cells": [
  {
   "cell_type": "code",
   "execution_count": 8,
   "id": "00f5961f",
   "metadata": {},
   "outputs": [
    {
     "name": "stdout",
     "output_type": "stream",
     "text": [
      "Collecting openpyxl\n",
      "  Downloading openpyxl-3.1.5-py2.py3-none-any.whl.metadata (2.5 kB)\n",
      "Collecting et-xmlfile (from openpyxl)\n",
      "  Downloading et_xmlfile-2.0.0-py3-none-any.whl.metadata (2.7 kB)\n",
      "Downloading openpyxl-3.1.5-py2.py3-none-any.whl (250 kB)\n",
      "Downloading et_xmlfile-2.0.0-py3-none-any.whl (18 kB)\n",
      "Installing collected packages: et-xmlfile, openpyxl\n",
      "\n",
      "   -------------------- ------------------- 1/2 [openpyxl]\n",
      "   -------------------- ------------------- 1/2 [openpyxl]\n",
      "   -------------------- ------------------- 1/2 [openpyxl]\n",
      "   -------------------- ------------------- 1/2 [openpyxl]\n",
      "   -------------------- ------------------- 1/2 [openpyxl]\n",
      "   -------------------- ------------------- 1/2 [openpyxl]\n",
      "   -------------------- ------------------- 1/2 [openpyxl]\n",
      "   -------------------- ------------------- 1/2 [openpyxl]\n",
      "   -------------------- ------------------- 1/2 [openpyxl]\n",
      "   -------------------- ------------------- 1/2 [openpyxl]\n",
      "   -------------------- ------------------- 1/2 [openpyxl]\n",
      "   -------------------- ------------------- 1/2 [openpyxl]\n",
      "   -------------------- ------------------- 1/2 [openpyxl]\n",
      "   -------------------- ------------------- 1/2 [openpyxl]\n",
      "   -------------------- ------------------- 1/2 [openpyxl]\n",
      "   ---------------------------------------- 2/2 [openpyxl]\n",
      "\n",
      "Successfully installed et-xmlfile-2.0.0 openpyxl-3.1.5\n",
      "Note: you may need to restart the kernel to use updated packages.\n"
     ]
    },
    {
     "name": "stderr",
     "output_type": "stream",
     "text": [
      "\n",
      "[notice] A new release of pip is available: 25.1.1 -> 25.2\n",
      "[notice] To update, run: python.exe -m pip install --upgrade pip\n"
     ]
    }
   ],
   "source": [
    "pip install openpyxl\n"
   ]
  },
  {
   "cell_type": "code",
   "execution_count": 1,
   "id": "2e585652",
   "metadata": {},
   "outputs": [
    {
     "name": "stdout",
     "output_type": "stream",
     "text": [
      "The Server's Response = <Response [200]>\n",
      "Total jobs found across all pages: 56\n",
      "\n",
      "CSV file saved as 'wuzzuf_jobs.csv'\n",
      "Excel file saved as 'wuzzuf_jobs.xlsx'\n"
     ]
    }
   ],
   "source": [
    "import requests\n",
    "from bs4 import BeautifulSoup\n",
    "import pandas as pd\n",
    "\n",
    "all_jobs = []  \n",
    "jobs_data = []  \n",
    "\n",
    "for page in range(4):  \n",
    "    url = f'https://wuzzuf.net/search/jobs?a=spbg&q=machine%20learning&start={page}'\n",
    "    Response = requests.get(url)\n",
    "    soup = BeautifulSoup(Response.text, 'lxml')\n",
    "    \n",
    "    jobs = soup.find_all('div', class_='css-ghe2tq e1v1l3u10')\n",
    "    all_jobs.extend(jobs)  \n",
    "\n",
    "print(f\"The Server's Response = {Response}\")\n",
    "print(f'Total jobs found across all pages: {len(all_jobs)}\\n')\n",
    "\n",
    "for n , job in enumerate(all_jobs, start=1):  \n",
    "    job_title = job.find('h2', class_='css-193uk2c')\n",
    "    job_title = job_title.text.strip() if job_title else \"N/A\"\n",
    "\n",
    "    company_name = job.find('a', class_='css-ipsyv7')\n",
    "    company_name = company_name.text.strip() if company_name else \"N/A\"\n",
    "\n",
    "    site = job.find('span', class_='css-16x61xq')\n",
    "    site = site.text.strip() if site else \"N/A\"\n",
    "\n",
    "    skills_list = job.find_all('a', class_='css-5x9pm1')\n",
    "    skills = ', '.join([skill.text.replace('·', '').strip() for skill in skills_list if skill.text.strip()]) if skills_list else \"N/A\"\n",
    "\n",
    "    puplished_date = job.find('div', class_='css-eg55jf')\n",
    "    puplished_date = puplished_date.text.strip() if puplished_date else \"N/A\"\n",
    "\n",
    "    exp_anchor = job.find('a', class_='css-o171kl', string='Experienced')\n",
    "    if exp_anchor:\n",
    "        experience_span = exp_anchor.find_next('span')\n",
    "        experience = experience_span.text.replace('·', '').strip() if experience_span else \"N/A\"\n",
    "    else:\n",
    "        experience = \"N/A\"\n",
    "\n",
    "    jobs_data.append({\n",
    "        \"Job #\": n,\n",
    "        \"Job title\": job_title,\n",
    "        \"Company name\": company_name,\n",
    "        \"Site\": site,\n",
    "        \"Experience\": experience,\n",
    "        \"Skills\": skills,\n",
    "        \"Published in\": puplished_date\n",
    "    })\n",
    "\n",
    "df = pd.DataFrame(jobs_data)\n",
    "df.to_csv(\"wuzzuf_jobs.csv\", index=False)\n",
    "print(\"CSV file saved as 'wuzzuf_jobs.csv'\")\n",
    "\n",
    "\n",
    "df = pd.DataFrame(jobs_data)\n",
    "df.to_excel(\"wuzzuf_jobs.xlsx\", index=False)\n",
    "print(\"Excel file saved as 'wuzzuf_jobs.xlsx'\")\n"
   ]
  }
 ],
 "metadata": {
  "kernelspec": {
   "display_name": ".venv",
   "language": "python",
   "name": "python3"
  },
  "language_info": {
   "codemirror_mode": {
    "name": "ipython",
    "version": 3
   },
   "file_extension": ".py",
   "mimetype": "text/x-python",
   "name": "python",
   "nbconvert_exporter": "python",
   "pygments_lexer": "ipython3",
   "version": "3.12.9"
  }
 },
 "nbformat": 4,
 "nbformat_minor": 5
}
